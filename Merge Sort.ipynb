{
 "cells": [
  {
   "cell_type": "code",
   "execution_count": 6,
   "id": "91fe479d",
   "metadata": {},
   "outputs": [
    {
     "name": "stdout",
     "output_type": "stream",
     "text": [
      "Given array is\n",
      "17 10 19 8 2 9 \n",
      "Sorted array is: \n",
      "2 8 9 10 17 19 \n"
     ]
    }
   ],
   "source": [
    "def Merge_Sort(arr):\n",
    "    if len(arr) > 1:\n",
    " \n",
    "        mid = len(arr)//2\n",
    " \n",
    "        L = arr[:mid]\n",
    " \n",
    "        R = arr[mid:]\n",
    " \n",
    "        Merge_Sort(L)\n",
    " \n",
    "        Merge_Sort(R)\n",
    " \n",
    "        i = j = k = 0\n",
    " \n",
    "        while i < len(L) and j < len(R):\n",
    "            if L[i] < R[j]:\n",
    "                arr[k] = L[i]\n",
    "                i += 1\n",
    "            else:\n",
    "                arr[k] = R[j]\n",
    "                j += 1\n",
    "            k += 1\n",
    " \n",
    "        while i < len(L):\n",
    "            arr[k] = L[i]\n",
    "            i += 1\n",
    "            k += 1\n",
    " \n",
    "        while j < len(R):\n",
    "            arr[k] = R[j]\n",
    "            j += 1\n",
    "            k += 1\n",
    " \n",
    " \n",
    "def Display(arr):\n",
    "    for i in range(len(arr)):\n",
    "        print(arr[i], end=\" \")\n",
    "    print()\n",
    " \n",
    " \n",
    "\n",
    "if __name__ == '__main__':\n",
    "    arr = [17, 10, 19, 8, 2, 9]\n",
    "    print(\"Given array is\", end=\"\\n\")\n",
    "    Display(arr)\n",
    "    Merge_Sort(arr)\n",
    "    print(\"Sorted array is: \", end=\"\\n\")\n",
    "    Display(arr)"
   ]
  },
  {
   "cell_type": "code",
   "execution_count": null,
   "id": "b34fe2e6",
   "metadata": {},
   "outputs": [],
   "source": []
  }
 ],
 "metadata": {
  "kernelspec": {
   "display_name": "Python 3",
   "language": "python",
   "name": "python3"
  },
  "language_info": {
   "codemirror_mode": {
    "name": "ipython",
    "version": 3
   },
   "file_extension": ".py",
   "mimetype": "text/x-python",
   "name": "python",
   "nbconvert_exporter": "python",
   "pygments_lexer": "ipython3",
   "version": "3.9.3"
  }
 },
 "nbformat": 4,
 "nbformat_minor": 5
}
