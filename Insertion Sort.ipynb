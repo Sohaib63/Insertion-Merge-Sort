{
 "cells": [
  {
   "cell_type": "code",
   "execution_count": 2,
   "id": "e50c0b9a",
   "metadata": {},
   "outputs": [
    {
     "name": "stdout",
     "output_type": "stream",
     "text": [
      "Sorted array is:\n",
      "2\n",
      "8\n",
      "9\n",
      "10\n",
      "17\n",
      "19\n"
     ]
    }
   ],
   "source": [
    "def Insertion_Sort(ar):\n",
    "  \n",
    "    for i in range(1, len(ar)):\n",
    "  \n",
    "        key = ar[i]\n",
    "  \n",
    "        j = i-1\n",
    "        while j >=0 and key < ar[j] :\n",
    "                ar[j+1] = ar[j]\n",
    "                j -= 1\n",
    "        ar[j+1] = key\n",
    "  \n",
    "  \n",
    "\n",
    "ar = [17, 10, 19, 8, 2, 9]\n",
    "Insertion_Sort(ar)\n",
    "print (\"Sorted array is:\")\n",
    "for i in range(len(ar)):\n",
    "    print (\"%d\" %ar[i])"
   ]
  },
  {
   "cell_type": "code",
   "execution_count": null,
   "id": "335c5b16",
   "metadata": {},
   "outputs": [],
   "source": []
  }
 ],
 "metadata": {
  "kernelspec": {
   "display_name": "Python 3",
   "language": "python",
   "name": "python3"
  },
  "language_info": {
   "codemirror_mode": {
    "name": "ipython",
    "version": 3
   },
   "file_extension": ".py",
   "mimetype": "text/x-python",
   "name": "python",
   "nbconvert_exporter": "python",
   "pygments_lexer": "ipython3",
   "version": "3.9.3"
  }
 },
 "nbformat": 4,
 "nbformat_minor": 5
}
